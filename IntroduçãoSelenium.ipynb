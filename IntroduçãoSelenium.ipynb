{
 "cells": [
  {
   "cell_type": "code",
   "execution_count": 1,
   "id": "d16ecc79",
   "metadata": {},
   "outputs": [],
   "source": [
    "# Importando o Selenium\n",
    "from selenium import webdriver\n",
    "from webdriver_manager.chrome import ChromeDriverManager\n",
    "from selenium.webdriver.chrome.service import Service\n",
    "\n",
    "servico = Service(ChromeDriverManager().install())\n",
    "\n",
    "navegador = webdriver.Chrome(service=servico)"
   ]
  },
  {
   "cell_type": "code",
   "execution_count": 2,
   "id": "bf98b3b8",
   "metadata": {},
   "outputs": [],
   "source": [
    "#Acessando o site google\n",
    "navegador.get(\"https://www.google.com.br/\")\n",
    "\n",
    "#Digitando a pesquisa\n",
    "navegador.find_element('xpath', '/html/body/div[1]/div[3]/form/div[1]/div[1]/div[1]/div/div[2]/input').send_keys(\"partidas da copa do mundo 2022\")\n",
    "\n",
    "#Apertando o botao de pesquisar\n",
    "navegador.find_element('xpath','/html/body/div[1]/div[3]/form/div[1]/div[1]/div[4]/center/input[1]').click()\n",
    "\n",
    "#Acessando o site do UOL com as tabelas da partida\n",
    "navegador.find_element('xpath','//*[@id=\"rso\"]/div[2]/div/div/div[1]/div/a/h3').click()"
   ]
  },
  {
   "cell_type": "code",
   "execution_count": null,
   "id": "25619e43",
   "metadata": {},
   "outputs": [],
   "source": []
  }
 ],
 "metadata": {
  "kernelspec": {
   "display_name": "Python 3 (ipykernel)",
   "language": "python",
   "name": "python3"
  },
  "language_info": {
   "codemirror_mode": {
    "name": "ipython",
    "version": 3
   },
   "file_extension": ".py",
   "mimetype": "text/x-python",
   "name": "python",
   "nbconvert_exporter": "python",
   "pygments_lexer": "ipython3",
   "version": "3.9.13"
  }
 },
 "nbformat": 4,
 "nbformat_minor": 5
}
